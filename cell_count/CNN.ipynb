{
 "cells": [
  {
   "cell_type": "code",
   "execution_count": 81,
   "metadata": {},
   "outputs": [],
   "source": [
    "import numpy as np\n",
    "import pandas as pd\n",
    "import os\n",
    "import cv2\n",
    "import matplotlib.pyplot as plt \n",
    "import seaborn as sns\n",
    "import os\n",
    "from PIL import Image\n",
    "from tensorflow.keras.preprocessing.image import img_to_array\n",
    "from tensorflow.keras.preprocessing.image import load_img\n",
    "from tensorflow.keras.utils import to_categorical"
   ]
  },
  {
   "cell_type": "code",
   "execution_count": 82,
   "metadata": {},
   "outputs": [],
   "source": [
    "THw_data = os.listdir('D:/cell_count/rawdata/THw/')\n",
    "THp_data = os.listdir('D:/cell_count/rawdata/THp/')\n",
    "CH_data = os.listdir('D:/cell_count/rawdata/CH/')\n",
    "CH_1_data = os.listdir('D:/cell_count/rawdata/CH_1/')\n",
    "noise_data = os.listdir('D:/cell_count/rawdata/noise/')"
   ]
  },
  {
   "cell_type": "code",
   "execution_count": 102,
   "metadata": {},
   "outputs": [
    {
     "name": "stdout",
     "output_type": "stream",
     "text": [
      "28425 28425\n"
     ]
    }
   ],
   "source": [
    "data = []\n",
    "labels = []\n",
    "\n",
    "for img in noise_data:\n",
    "    try:\n",
    "        img_read = plt.imread('D:/cell_count/rawdata/noise' + \"/\" + img)\n",
    "        img_resize = cv2.resize(img_read, (60, 60))\n",
    "        img_array = img_to_array(img_resize)\n",
    "        img2 = np.fliplr(img_array)\n",
    "        img3 = np.flipud(img_array)\n",
    "        img4 = np.rot90(img_array)\n",
    "        img5 = np.rot90(img2)\n",
    "        data.append(img_array)\n",
    "        data.append(img2)\n",
    "        data.append(img3)\n",
    "        data.append(img4)\n",
    "        data.append(img5)\n",
    "        labels.append(4)\n",
    "        labels.append(4)\n",
    "        labels.append(4)\n",
    "        labels.append(4)\n",
    "        labels.append(4)\n",
    "    except:\n",
    "        None\n",
    "\n",
    "for img in CH_data:\n",
    "    try:\n",
    "        img_read = plt.imread('D:/cell_count/rawdata/CH' + \"/\" + img)\n",
    "        img_resize = cv2.resize(img_read, (60, 60))\n",
    "        img_array = img_to_array(img_resize)\n",
    "        img2 = np.fliplr(img_array)\n",
    "        img3 = np.flipud(img_array)\n",
    "        img4 = np.rot90(img_array)\n",
    "        img5 = np.rot90(img2)\n",
    "        data.append(img_array)\n",
    "        data.append(img2)\n",
    "        data.append(img3)\n",
    "        data.append(img4)\n",
    "        data.append(img5)\n",
    "        labels.append(3)\n",
    "        labels.append(3)\n",
    "        labels.append(3)\n",
    "        labels.append(3)\n",
    "        labels.append(3)\n",
    "    except:\n",
    "        None\n",
    "\n",
    "for img in CH_1_data:\n",
    "    try:\n",
    "        img_read = plt.imread('D:/cell_count/rawdata/CH_1' + \"/\" + img)\n",
    "        img_resize = cv2.resize(img_read, (60, 60))\n",
    "        img_array = img_to_array(img_resize)\n",
    "        img2 = np.fliplr(img_array)\n",
    "        img3 = np.flipud(img_array)\n",
    "        img4 = np.rot90(img_array)\n",
    "        img5 = np.rot90(img2)\n",
    "        data.append(img_array)\n",
    "        data.append(img2)\n",
    "        data.append(img3)\n",
    "        data.append(img4)\n",
    "        data.append(img5)\n",
    "        labels.append(2)\n",
    "        labels.append(2)\n",
    "        labels.append(2)\n",
    "        labels.append(2)\n",
    "        labels.append(2)\n",
    "    except:\n",
    "        None\n",
    "\n",
    "for img in THw_data:\n",
    "    try:\n",
    "        img_read = plt.imread('D:/cell_count/rawdata/THw' + \"/\" + img)\n",
    "        img_resize = cv2.resize(img_read, (60, 60))\n",
    "        img_array = img_to_array(img_resize)\n",
    "        img2 = np.fliplr(img_array)\n",
    "        img3 = np.flipud(img_array)\n",
    "        img4 = np.rot90(img_array)\n",
    "        img5 = np.rot90(img2)\n",
    "        data.append(img_array)\n",
    "        data.append(img2)\n",
    "        data.append(img3)\n",
    "        data.append(img4)\n",
    "        data.append(img5)\n",
    "        labels.append(1)\n",
    "        labels.append(1)\n",
    "        labels.append(1)\n",
    "        labels.append(1)\n",
    "        labels.append(1)\n",
    "    except:\n",
    "        None\n",
    "        \n",
    "for img in THp_data:\n",
    "    try:\n",
    "        img_read = plt.imread('D:/cell_count/rawdata/THp' + \"/\" + img)\n",
    "        img_resize = cv2.resize(img_read, (60, 60))\n",
    "        img_array = img_to_array(img_resize)\n",
    "        img2 = np.fliplr(img_array)\n",
    "        img3 = np.flipud(img_array)\n",
    "        img4 = np.rot90(img_array)\n",
    "        img5 = np.rot90(img2)\n",
    "        data.append(img_array)\n",
    "        data.append(img2)\n",
    "        data.append(img3)\n",
    "        data.append(img4)\n",
    "        data.append(img5)\n",
    "        labels.append(0)\n",
    "        labels.append(0)\n",
    "        labels.append(0)\n",
    "        labels.append(0)\n",
    "        labels.append(0)\n",
    "    except:\n",
    "        None\n",
    "        \n",
    "print(len(data),len(labels))"
   ]
  },
  {
   "cell_type": "code",
   "execution_count": 103,
   "metadata": {},
   "outputs": [],
   "source": [
    "image_data = np.array(data)\n",
    "labels = np.array(labels)\n",
    "idx = np.arange(image_data.shape[0])\n",
    "np.random.shuffle(idx)\n",
    "image_data = image_data[idx]\n",
    "labels = labels[idx]\n"
   ]
  },
  {
   "cell_type": "code",
   "execution_count": 115,
   "metadata": {},
   "outputs": [],
   "source": [
    "from sklearn.model_selection import train_test_split\n",
    "x_train, x_test, y_train, y_test = train_test_split(image_data, labels, test_size = 0.2, random_state = 101)"
   ]
  },
  {
   "cell_type": "code",
   "execution_count": 117,
   "metadata": {},
   "outputs": [],
   "source": [
    "y_train = to_categorical(y_train, num_classes = 5)\n",
    "y_test = to_categorical(y_test, num_classes = 5)"
   ]
  },
  {
   "cell_type": "code",
   "execution_count": 118,
   "metadata": {},
   "outputs": [
    {
     "name": "stdout",
     "output_type": "stream",
     "text": [
      "SHAPE OF TRAINING IMAGE DATA : (22740, 60, 60, 3)\n",
      "SHAPE OF TESTING IMAGE DATA : (5685, 60, 60, 3)\n",
      "SHAPE OF TRAINING LABELS : (22740, 5)\n",
      "SHAPE OF TESTING LABELS : (5685, 5)\n"
     ]
    }
   ],
   "source": [
    "print(f'SHAPE OF TRAINING IMAGE DATA : {x_train.shape}')\n",
    "print(f'SHAPE OF TESTING IMAGE DATA : {x_test.shape}')\n",
    "print(f'SHAPE OF TRAINING LABELS : {y_train.shape}')\n",
    "print(f'SHAPE OF TESTING LABELS : {y_test.shape}')"
   ]
  },
  {
   "cell_type": "code",
   "execution_count": 88,
   "metadata": {},
   "outputs": [],
   "source": [
    "import tensorflow.keras as keras\n",
    "from tensorflow.keras.layers import Dense, Conv2D\n",
    "from tensorflow.keras.layers import Flatten\n",
    "from tensorflow.keras.layers import MaxPooling2D, GlobalAveragePooling2D\n",
    "from tensorflow.keras.layers import Activation\n",
    "from tensorflow.keras.layers import BatchNormalization\n",
    "from tensorflow.keras.layers import Dropout\n",
    "from tensorflow.keras.models import Sequential\n",
    "from tensorflow.keras import backend as K\n",
    "\n",
    "from tensorflow.keras import optimizers"
   ]
  },
  {
   "cell_type": "code",
   "execution_count": 89,
   "metadata": {},
   "outputs": [],
   "source": [
    "def CNNbuild(height, width, classes, channels):\n",
    "    model = Sequential()\n",
    "    \n",
    "    inputShape = (height, width, channels)\n",
    "    chanDim = -1\n",
    "    \n",
    "    if K.image_data_format() == 'channels_first':\n",
    "        inputShape = (channels, height, width)\n",
    "    model.add(Conv2D(64, (1,1), activation = 'relu', input_shape = inputShape))\n",
    "    model.add(MaxPooling2D(2,2))\n",
    "    model.add(BatchNormalization(axis = chanDim))\n",
    "    model.add(Dropout(0.2))\n",
    "\n",
    "    model.add(Conv2D(64, (3,3), activation = 'relu'))\n",
    "    model.add(MaxPooling2D(2,2))\n",
    "    model.add(BatchNormalization(axis = chanDim))\n",
    "    model.add(Dropout(0.2))\n",
    "\n",
    "    model.add(Conv2D(256, (1,1), activation = 'relu'))\n",
    "    model.add(MaxPooling2D(2,2))\n",
    "    model.add(BatchNormalization(axis = chanDim))\n",
    "    model.add(Dropout(0.2))\n",
    "\n",
    "    model.add(Flatten())\n",
    "    \n",
    "    model.add(Dense(512, activation = 'relu'))\n",
    "    model.add(BatchNormalization(axis = chanDim))\n",
    "    model.add(Dropout(0.5))\n",
    "    model.add(Dense(classes, activation = 'softmax'))\n",
    "    \n",
    "    return model"
   ]
  },
  {
   "cell_type": "code",
   "execution_count": 107,
   "metadata": {
    "scrolled": true
   },
   "outputs": [
    {
     "name": "stdout",
     "output_type": "stream",
     "text": [
      "_________________________________________________________________\n",
      "Layer (type)                 Output Shape              Param #   \n",
      "=================================================================\n",
      "conv2d_28 (Conv2D)           (None, 60, 60, 64)        256       \n",
      "_________________________________________________________________\n",
      "max_pooling2d_26 (MaxPooling (None, 30, 30, 64)        0         \n",
      "_________________________________________________________________\n",
      "batch_normalization_33 (Batc (None, 30, 30, 64)        256       \n",
      "_________________________________________________________________\n",
      "dropout_33 (Dropout)         (None, 30, 30, 64)        0         \n",
      "_________________________________________________________________\n",
      "conv2d_29 (Conv2D)           (None, 28, 28, 64)        36928     \n",
      "_________________________________________________________________\n",
      "max_pooling2d_27 (MaxPooling (None, 14, 14, 64)        0         \n",
      "_________________________________________________________________\n",
      "batch_normalization_34 (Batc (None, 14, 14, 64)        256       \n",
      "_________________________________________________________________\n",
      "dropout_34 (Dropout)         (None, 14, 14, 64)        0         \n",
      "_________________________________________________________________\n",
      "conv2d_30 (Conv2D)           (None, 14, 14, 256)       16640     \n",
      "_________________________________________________________________\n",
      "max_pooling2d_28 (MaxPooling (None, 7, 7, 256)         0         \n",
      "_________________________________________________________________\n",
      "batch_normalization_35 (Batc (None, 7, 7, 256)         1024      \n",
      "_________________________________________________________________\n",
      "dropout_35 (Dropout)         (None, 7, 7, 256)         0         \n",
      "_________________________________________________________________\n",
      "flatten_7 (Flatten)          (None, 12544)             0         \n",
      "_________________________________________________________________\n",
      "dense_14 (Dense)             (None, 512)               6423040   \n",
      "_________________________________________________________________\n",
      "batch_normalization_36 (Batc (None, 512)               2048      \n",
      "_________________________________________________________________\n",
      "dropout_36 (Dropout)         (None, 512)               0         \n",
      "_________________________________________________________________\n",
      "dense_15 (Dense)             (None, 5)                 2565      \n",
      "=================================================================\n",
      "Total params: 6,483,013\n",
      "Trainable params: 6,481,221\n",
      "Non-trainable params: 1,792\n",
      "_________________________________________________________________\n"
     ]
    }
   ],
   "source": [
    "height = 60\n",
    "width = 60\n",
    "classes = 5\n",
    "channels = 3\n",
    "model = CNNbuild(height = height, width = width, classes = classes, channels = channels)\n",
    "model.summary()"
   ]
  },
  {
   "cell_type": "code",
   "execution_count": 108,
   "metadata": {},
   "outputs": [],
   "source": [
    "#compile the model\n",
    "model.compile(loss = 'categorical_crossentropy', optimizer = 'Adam', metrics = ['accuracy'])"
   ]
  },
  {
   "cell_type": "code",
   "execution_count": null,
   "metadata": {
    "scrolled": true
   },
   "outputs": [
    {
     "name": "stdout",
     "output_type": "stream",
     "text": [
      "Epoch 1/100\n",
      "22740/22740 [==============================] - 1021s 45ms/step - loss: 0.6141 - acc: 0.7128\n",
      "Epoch 2/100\n",
      "22740/22740 [==============================] - 912s 40ms/step - loss: 0.6057 - acc: 0.7243\n",
      "Epoch 3/100\n",
      "22740/22740 [==============================] - 882s 39ms/step - loss: 0.5957 - acc: 0.7270\n",
      "Epoch 4/100\n",
      "22740/22740 [==============================] - 884s 39ms/step - loss: 0.5959 - acc: 0.7286\n",
      "Epoch 5/100\n",
      "22740/22740 [==============================] - 884s 39ms/step - loss: 0.5840 - acc: 0.7325\n",
      "Epoch 6/100\n",
      "22740/22740 [==============================] - 880s 39ms/step - loss: 0.5812 - acc: 0.7341\n",
      "Epoch 7/100\n",
      "22740/22740 [==============================] - 878s 39ms/step - loss: 0.5826 - acc: 0.7298\n",
      "Epoch 8/100\n",
      "22740/22740 [==============================] - 888s 39ms/step - loss: 0.5668 - acc: 0.7434\n",
      "Epoch 9/100\n",
      "22740/22740 [==============================] - 882s 39ms/step - loss: 0.5700 - acc: 0.7397\n",
      "Epoch 10/100\n",
      "22740/22740 [==============================] - 891s 39ms/step - loss: 0.5677 - acc: 0.7406\n",
      "Epoch 11/100\n",
      "22740/22740 [==============================] - 887s 39ms/step - loss: 0.5613 - acc: 0.7412\n",
      "Epoch 12/100\n",
      "22740/22740 [==============================] - 881s 39ms/step - loss: 0.5531 - acc: 0.7471\n",
      "Epoch 13/100\n",
      "22740/22740 [==============================] - 880s 39ms/step - loss: 0.5488 - acc: 0.7476\n",
      "Epoch 14/100\n",
      "22740/22740 [==============================] - 882s 39ms/step - loss: 0.5406 - acc: 0.7518\n",
      "Epoch 15/100\n",
      "22740/22740 [==============================] - 882s 39ms/step - loss: 0.5366 - acc: 0.7564\n",
      "Epoch 16/100\n",
      "22740/22740 [==============================] - 882s 39ms/step - loss: 0.5363 - acc: 0.7539\n",
      "Epoch 17/100\n",
      "22740/22740 [==============================] - 878s 39ms/step - loss: 0.5353 - acc: 0.7554\n",
      "Epoch 18/100\n",
      "22740/22740 [==============================] - 893s 39ms/step - loss: 0.5287 - acc: 0.7602\n",
      "Epoch 19/100\n",
      "22740/22740 [==============================] - 882s 39ms/step - loss: 0.5411 - acc: 0.7563\n",
      "Epoch 20/100\n",
      "22740/22740 [==============================] - 876s 39ms/step - loss: 0.5234 - acc: 0.7651\n",
      "Epoch 21/100\n",
      "22740/22740 [==============================] - 882s 39ms/step - loss: 0.5228 - acc: 0.7650\n",
      "Epoch 22/100\n",
      "22740/22740 [==============================] - 882s 39ms/step - loss: 0.5210 - acc: 0.7631\n",
      "Epoch 23/100\n",
      "22740/22740 [==============================] - 883s 39ms/step - loss: 0.5127 - acc: 0.7683\n",
      "Epoch 24/100\n",
      "22740/22740 [==============================] - 883s 39ms/step - loss: 0.5092 - acc: 0.7706\n",
      "Epoch 25/100\n",
      "22740/22740 [==============================] - 884s 39ms/step - loss: 0.4970 - acc: 0.7727\n",
      "Epoch 26/100\n",
      "22740/22740 [==============================] - 882s 39ms/step - loss: 0.4955 - acc: 0.7768\n",
      "Epoch 27/100\n",
      "22740/22740 [==============================] - 884s 39ms/step - loss: 0.4973 - acc: 0.7763\n",
      "Epoch 28/100\n",
      "22740/22740 [==============================] - 877s 39ms/step - loss: 0.4886 - acc: 0.7804\n",
      "Epoch 29/100\n",
      "22740/22740 [==============================] - 877s 39ms/step - loss: 0.4918 - acc: 0.7779\n",
      "Epoch 30/100\n",
      "22740/22740 [==============================] - 882s 39ms/step - loss: 0.4866 - acc: 0.7770\n",
      "Epoch 31/100\n",
      "22740/22740 [==============================] - 884s 39ms/step - loss: 0.4862 - acc: 0.7787\n",
      "Epoch 32/100\n",
      "22740/22740 [==============================] - 882s 39ms/step - loss: 0.4918 - acc: 0.7778\n",
      "Epoch 33/100\n",
      "22740/22740 [==============================] - 882s 39ms/step - loss: 0.4737 - acc: 0.7862\n",
      "Epoch 34/100\n",
      "22740/22740 [==============================] - 881s 39ms/step - loss: 0.4722 - acc: 0.7860\n",
      "Epoch 35/100\n",
      "22740/22740 [==============================] - 882s 39ms/step - loss: 0.4737 - acc: 0.7866\n",
      "Epoch 36/100\n",
      "22740/22740 [==============================] - 883s 39ms/step - loss: 0.4624 - acc: 0.7920\n",
      "Epoch 37/100\n",
      "22740/22740 [==============================] - 880s 39ms/step - loss: 0.4656 - acc: 0.7892\n",
      "Epoch 38/100\n",
      "22740/22740 [==============================] - 881s 39ms/step - loss: 0.4610 - acc: 0.7919\n",
      "Epoch 39/100\n",
      "22740/22740 [==============================] - 879s 39ms/step - loss: 0.4493 - acc: 0.7973\n",
      "Epoch 40/100\n",
      "22740/22740 [==============================] - 883s 39ms/step - loss: 0.4572 - acc: 0.7947\n",
      "Epoch 41/100\n",
      "22740/22740 [==============================] - 883s 39ms/step - loss: 0.4584 - acc: 0.7929\n",
      "Epoch 42/100\n",
      "22740/22740 [==============================] - 884s 39ms/step - loss: 0.4461 - acc: 0.7977\n",
      "Epoch 43/100\n",
      "22740/22740 [==============================] - 882s 39ms/step - loss: 0.4522 - acc: 0.7942\n",
      "Epoch 44/100\n",
      "22740/22740 [==============================] - 883s 39ms/step - loss: 0.4458 - acc: 0.7977\n",
      "Epoch 45/100\n",
      "22740/22740 [==============================] - 879s 39ms/step - loss: 0.4443 - acc: 0.7990\n",
      "Epoch 46/100\n",
      "22740/22740 [==============================] - 883s 39ms/step - loss: 0.4476 - acc: 0.7972\n",
      "Epoch 47/100\n",
      "22740/22740 [==============================] - 897s 39ms/step - loss: 0.4524 - acc: 0.7939\n",
      "Epoch 48/100\n",
      "22740/22740 [==============================] - 883s 39ms/step - loss: 0.4422 - acc: 0.8015\n",
      "Epoch 49/100\n",
      "22740/22740 [==============================] - 881s 39ms/step - loss: 0.4371 - acc: 0.8024\n",
      "Epoch 50/100\n",
      "22740/22740 [==============================] - 882s 39ms/step - loss: 0.4412 - acc: 0.7995\n",
      "Epoch 51/100\n",
      "22740/22740 [==============================] - 884s 39ms/step - loss: 0.4342 - acc: 0.8050\n",
      "Epoch 52/100\n",
      "22740/22740 [==============================] - 900s 40ms/step - loss: 0.4382 - acc: 0.8006\n",
      "Epoch 53/100\n",
      "22740/22740 [==============================] - 899s 40ms/step - loss: 0.4300 - acc: 0.8066\n",
      "Epoch 54/100\n",
      "22740/22740 [==============================] - 1179s 52ms/step - loss: 0.4428 - acc: 0.7967\n",
      "Epoch 55/100\n",
      "15600/22740 [===================>..........] - ETA: 5:42 - loss: 0.4381 - acc: 0.8049"
     ]
    }
   ],
   "source": [
    "h = model.fit(x_train, y_train, epochs = 100, batch_size = 100)"
   ]
  },
  {
   "cell_type": "code",
   "execution_count": 113,
   "metadata": {},
   "outputs": [
    {
     "data": {
      "text/plain": [
       "<matplotlib.legend.Legend at 0x1711796d3c8>"
      ]
     },
     "execution_count": 113,
     "metadata": {},
     "output_type": "execute_result"
    },
    {
     "data": {
      "image/png": "[encoded data removed]",
      "text/plain": [
       "<Figure size 1296x576 with 1 Axes>"
      ]
     },
     "metadata": {
      "needs_background": "light"
     },
     "output_type": "display_data"
    }
   ],
   "source": [
    "plt.figure(figsize = (18,8))\n",
    "plt.plot(range(30), h.history['acc'], label = 'Training Accuracy')\n",
    "plt.plot(range(30), h.history['loss'], label = 'Taining Loss')\n",
    "#ax1.set_xticks(np.arange(0, 31, 5))\n",
    "plt.xlabel(\"Number of Epoch's\")\n",
    "plt.ylabel('Accuracy/Loss Value')\n",
    "plt.title('Training Accuracy and Training Loss')\n",
    "plt.legend(loc = \"best\")"
   ]
  },
  {
   "cell_type": "code",
   "execution_count": 114,
   "metadata": {},
   "outputs": [
    {
     "name": "stdout",
     "output_type": "stream",
     "text": [
      "5685/5685 [==============================] - 38s 7ms/step\n",
      "LOSS : 0.8639553112530771\n",
      "ACCURACY : 0.6223394899905095\n"
     ]
    }
   ],
   "source": [
    "predictions = model.evaluate(x_test, y_test)\n",
    "print(f'LOSS : {predictions[0]}')\n",
    "print(f'ACCURACY : {predictions[1]}')"
   ]
  }
 ],
 "metadata": {
  "kernelspec": {
   "display_name": "Python 3",
   "language": "python",
   "name": "python3"
  },
  "language_info": {
   "codemirror_mode": {
    "name": "ipython",
    "version": 3
   },
   "file_extension": ".py",
   "mimetype": "text/x-python",
   "name": "python",
   "nbconvert_exporter": "python",
   "pygments_lexer": "ipython3",
   "version": "3.6.7"
  }
 },
 "nbformat": 4,
 "nbformat_minor": 2
}
