{
 "cells": [
  {
   "cell_type": "code",
   "execution_count": 81,
   "metadata": {},
   "outputs": [],
   "source": [
    "import numpy as np\n",
    "import pandas as pd\n",
    "import os\n",
    "import cv2\n",
    "import matplotlib.pyplot as plt \n",
    "import seaborn as sns\n",
    "import os\n",
    "from PIL import Image\n",
    "from tensorflow.keras.preprocessing.image import img_to_array\n",
    "from tensorflow.keras.preprocessing.image import load_img\n",
    "from tensorflow.keras.utils import to_categorical"
   ]
  },
  {
   "cell_type": "code",
   "execution_count": null,
   "metadata": {},
   "outputs": [],
   "source": [
    "THw_data = os.listdir('D:/cell_count/rawdata/THw/')\n",
    "THp_data = os.listdir('D:/cell_count/rawdata/THp/')\n",
    "CH_data = os.listdir('D:/cell_count/rawdata/CH/')\n",
    "CH_1_data = os.listdir('D:/cell_count/rawdata/CH_1/')\n",
    "noise_data = os.listdir('D:/cell_count/rawdata/noise/')"
   ]
  },
  {
   "cell_type": "code",
   "execution_count": null,
   "metadata": {},
   "outputs": [],
   "source": [
    "data = []\n",
    "labels = []\n",
    "\n",
    "for img in noise_data:\n",
    "    try:\n",
    "        img_read = plt.imread('D:/cell_count/rawdata/noise' + \"/\" + img)\n",
    "        img_resize = cv2.resize(img_read, (60, 60))\n",
    "        img_array = img_to_array(img_resize)\n",
    "        img2 = np.fliplr(img_array)\n",
    "        img3 = np.flipud(img_array)\n",
    "        data.append(img_array)\n",
    "        data.append(img2)\n",
    "        labels.append(4)\n",
    "        labels.append(4)\n",
    "    except:\n",
    "        None\n",
    "\n",
    "for img in CH_data:\n",
    "    try:\n",
    "        img_read = plt.imread('D:/cell_count/rawdata/CH' + \"/\" + img)\n",
    "        img_resize = cv2.resize(img_read, (60, 60))\n",
    "        img_array = img_to_array(img_resize)\n",
    "        img2 = np.fliplr(img_array)\n",
    "        img3 = np.flipud(img_array)\n",
    "        data.append(img_array)\n",
    "        data.append(img2)\n",
    "        labels.append(3)\n",
    "        labels.append(3)\n",
    "    except:\n",
    "        None\n",
    "\n",
    "for img in CH_1_data:\n",
    "    try:\n",
    "        img_read = plt.imread('D:/cell_count/rawdata/CH_1' + \"/\" + img)\n",
    "        img_resize = cv2.resize(img_read, (60, 60))\n",
    "        img_array = img_to_array(img_resize)\n",
    "        img2 = np.fliplr(img_array)\n",
    "        img3 = np.flipud(img_array)\n",
    "        data.append(img2)\n",
    "        labels.append(2)\n",
    "        data.append(img_array)\n",
    "        labels.append(2)\n",
    "        data.append(img3)\n",
    "        labels.append(2)\n",
    "    except:\n",
    "        None\n",
    "\n",
    "for img in THw_data:\n",
    "    try:\n",
    "        img_read = plt.imread('D:/cell_count/rawdata/THw' + \"/\" + img)\n",
    "        img_resize = cv2.resize(img_read, (60, 60))\n",
    "        img_array = img_to_array(img_resize)\n",
    "        img2 = np.fliplr(img_array)\n",
    "        img3 = np.flipud(img_array)\n",
    "        data.append(img_array)\n",
    "        data.append(img2)\n",
    "        data.append(img3)\n",
    "        labels.append(1)\n",
    "        labels.append(1)\n",
    "        labels.append(1)\n",
    "    except:\n",
    "        None\n",
    "        \n",
    "for img in THp_data:\n",
    "    try:\n",
    "        img_read = plt.imread('D:/cell_count/rawdata/THp' + \"/\" + img)\n",
    "        img_resize = cv2.resize(img_read, (60, 60))\n",
    "        img_array = img_to_array(img_resize)\n",
    "        img2 = np.fliplr(img_array)\n",
    "        img3 = np.flipud(img_array)\n",
    "        data.append(img_array)\n",
    "        data.append(img3)\n",
    "        labels.append(0)\n",
    "        data.append(img2)\n",
    "        labels.append(0)\n",
    "        labels.append(0)\n",
    "    except:\n",
    "        None\n",
    "        \n",
    "print(len(data),len(labels))"
   ]
  },
  {
   "cell_type": "code",
   "execution_count": null,
   "metadata": {},
   "outputs": [],
   "source": [
    "image_data = np.array(data)\n",
    "labels = np.array(labels)\n",
    "idx = np.arange(image_data.shape[0])\n",
    "np.random.shuffle(idx)\n",
    "image_data = image_data[idx]\n",
    "labels = labels[idx]\n"
   ]
  },
  {
   "cell_type": "code",
   "execution_count": null,
   "metadata": {},
   "outputs": [],
   "source": [
    "from sklearn.model_selection import train_test_split\n",
    "x_train, x_test, y_train, y_test = train_test_split(image_data, labels, test_size = 0.2, random_state = 101)"
   ]
  },
  {
   "cell_type": "code",
   "execution_count": null,
   "metadata": {},
   "outputs": [],
   "source": [
    "y_train = to_categorical(y_train, num_classes = 5)\n",
    "y_test = to_categorical(y_test, num_classes = 5)"
   ]
  },
  {
   "cell_type": "code",
   "execution_count": null,
   "metadata": {},
   "outputs": [],
   "source": [
    "print(f'SHAPE OF TRAINING IMAGE DATA : {x_train.shape}')\n",
    "print(f'SHAPE OF TESTING IMAGE DATA : {x_test.shape}')\n",
    "print(f'SHAPE OF TRAINING LABELS : {y_train.shape}')\n",
    "print(f'SHAPE OF TESTING LABELS : {y_test.shape}')"
   ]
  },
  {
   "cell_type": "code",
   "execution_count": null,
   "metadata": {},
   "outputs": [],
   "source": [
    "import tensorflow.keras as keras\n",
    "from tensorflow.keras.layers import Dense, Conv2D\n",
    "from tensorflow.keras.layers import Flatten\n",
    "from tensorflow.keras.layers import MaxPooling2D, GlobalAveragePooling2D\n",
    "from tensorflow.keras.layers import Activation\n",
    "from tensorflow.keras.layers import BatchNormalization\n",
    "from tensorflow.keras.layers import Dropout\n",
    "from tensorflow.keras.models import Sequential\n",
    "from tensorflow.keras import backend as K\n",
    "\n",
    "from tensorflow.keras import optimizers"
   ]
  },
  {
   "cell_type": "code",
   "execution_count": null,
   "metadata": {},
   "outputs": [],
   "source": [
    "def CNNbuild(height, width, classes, channels):\n",
    "    model = Sequential()\n",
    "    \n",
    "    inputShape = (height, width, channels)\n",
    "    chanDim = -1\n",
    "    \n",
    "    if K.image_data_format() == 'channels_first':\n",
    "        inputShape = (channels, height, width)\n",
    "    model.add(Conv2D(64, (1,1), activation = 'relu', input_shape = inputShape))\n",
    "    model.add(MaxPooling2D(2,2))\n",
    "    model.add(BatchNormalization(axis = chanDim))\n",
    "    model.add(Dropout(0.2))\n",
    "\n",
    "    model.add(Conv2D(64, (3,3), activation = 'relu'))\n",
    "    model.add(MaxPooling2D(2,2))\n",
    "    model.add(BatchNormalization(axis = chanDim))\n",
    "    model.add(Dropout(0.2))\n",
    "\n",
    "    model.add(Conv2D(256, (1,1), activation = 'relu'))\n",
    "    model.add(MaxPooling2D(2,2))\n",
    "    model.add(BatchNormalization(axis = chanDim))\n",
    "    model.add(Dropout(0.2))\n",
    "\n",
    "    model.add(Flatten())\n",
    "    \n",
    "    model.add(Dense(512, activation = 'relu'))\n",
    "    model.add(BatchNormalization(axis = chanDim))\n",
    "    model.add(Dropout(0.5))\n",
    "    model.add(Dense(classes, activation = 'softmax'))\n",
    "    \n",
    "    return model"
   ]
  },
  {
   "cell_type": "code",
   "execution_count": null,
   "metadata": {},
   "outputs": [],
   "source": [
    "height = 60\n",
    "width = 60\n",
    "classes = 5\n",
    "channels = 3\n",
    "model = CNNbuild(height = height, width = width, classes = classes, channels = channels)\n",
    "model.summary()"
   ]
  },
  {
   "cell_type": "code",
   "execution_count": null,
   "metadata": {},
   "outputs": [],
   "source": [
    "#compile the model\n",
    "model.compile(loss = 'categorical_crossentropy', optimizer = 'Adam', metrics = ['accuracy'])"
   ]
  },
  {
   "cell_type": "code",
   "execution_count": null,
   "metadata": {},
   "outputs": [],
   "source": [
    "h = model.fit(x_train, y_train, epochs = 10, batch_size = 32)"
   ]
  },
  {
   "cell_type": "code",
   "execution_count": null,
   "metadata": {},
   "outputs": [],
   "source": [
    "plt.figure(figsize = (18,8))\n",
    "plt.plot(range(10), h.history['acc'], label = 'Training Accuracy')\n",
    "plt.plot(range(10), h.history['loss'], label = 'Taining Loss')\n",
    "#ax1.set_xticks(np.arange(0, 31, 5))\n",
    "plt.xlabel(\"Number of Epoch's\")\n",
    "plt.ylabel('Accuracy/Loss Value')\n",
    "plt.title('Training Accuracy and Training Loss')\n",
    "plt.legend(loc = \"best\")"
   ]
  },
  {
   "cell_type": "code",
   "execution_count": null,
   "metadata": {},
   "outputs": [],
   "source": [
    "predictions = model.evaluate(x_test, y_test)\n",
    "print(f'LOSS : {predictions[0]}')\n",
    "print(f'ACCURACY : {predictions[1]}')"
   ]
  }
 ],
 "metadata": {
  "kernelspec": {
   "display_name": "Python 3",
   "language": "python",
   "name": "python3"
  },
  "language_info": {
   "codemirror_mode": {
    "name": "ipython",
    "version": 3
   },
   "file_extension": ".py",
   "mimetype": "text/x-python",
   "name": "python",
   "nbconvert_exporter": "python",
   "pygments_lexer": "ipython3",
   "version": "3.6.7"
  }
 },
 "nbformat": 4,
 "nbformat_minor": 2
}
