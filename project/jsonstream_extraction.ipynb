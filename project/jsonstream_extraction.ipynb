{
 "cells": [
  {
   "cell_type": "code",
   "execution_count": 3,
   "metadata": {},
   "outputs": [
    {
     "name": "stderr",
     "output_type": "stream",
     "text": [
      "C:\\Users\\Arada\\Miniconda\\lib\\site-packages\\ipykernel_launcher.py:14: DeprecationWarning: generator 'KeyValueBSONInput.reads' raised StopIteration\n",
      "  \n"
     ]
    }
   ],
   "source": [
    "from bsonstream import KeyValueBSONInput\n",
    "import csv\n",
    "import bson \n",
    "import json\n",
    "from bson import ObjectId\n",
    "import numpy as np\n",
    "from string import punctuation\n",
    "\n",
    "def strip_punctuation(s):\n",
    "    return ''.join(c for c in s if c not in punctuation)\n",
    "\n",
    "with open('file\\cpcd-gse70138.bson', 'rb') as f:\n",
    "    stream = KeyValueBSONInput(fh=f)\n",
    "    for dict_data in stream:\n",
    "        del dict_data['_id']\n",
    "        name = str(dict_data['batch'])+'_' +str(dict_data['pert_id'])+'_' +str(dict_data['pert_dose'])+'.json'\n",
    "        with open(name, 'w') as outfile:\n",
    "            outfile.write( json.dumps(dict_data))\n",
    "           "
   ]
  },
  {
   "cell_type": "code",
   "execution_count": 70,
   "metadata": {
    "scrolled": false
   },
   "outputs": [
    {
     "data": {
      "text/plain": [
       "['TIMP3',\n",
       " 'PRTN3',\n",
       " 'PEG3',\n",
       " 'FBN2',\n",
       " 'HSPB1',\n",
       " 'ZNF91',\n",
       " 'APBB2',\n",
       " 'RPS4Y1',\n",
       " 'KDM5D',\n",
       " 'RHOBTB3',\n",
       " 'ELANE',\n",
       " '-666',\n",
       " 'TMEM110',\n",
       " 'KIAA0100',\n",
       " 'MFAP5',\n",
       " 'LCN2',\n",
       " 'NUPR1',\n",
       " 'CD24',\n",
       " 'TSC22D3',\n",
       " 'OSR2',\n",
       " 'SYNM',\n",
       " 'SORL1',\n",
       " 'IER3',\n",
       " 'DKK1',\n",
       " 'NGRN',\n",
       " 'CCND1',\n",
       " 'GNG11',\n",
       " 'FMO3',\n",
       " 'F2RL1',\n",
       " '-666',\n",
       " 'EMP3',\n",
       " 'TM4SF1',\n",
       " 'PHLDA2',\n",
       " 'PRNP',\n",
       " 'EPHA2',\n",
       " 'SRPX',\n",
       " 'LPAR1',\n",
       " 'UAP1',\n",
       " 'AXL',\n",
       " 'MAOB',\n",
       " 'CSRP1',\n",
       " 'PHLDA1',\n",
       " 'XIST',\n",
       " 'DUSP4',\n",
       " 'FOSL1',\n",
       " 'EVI2B',\n",
       " 'IGJ',\n",
       " 'ELK3',\n",
       " 'TFPI',\n",
       " 'NES',\n",
       " 'ALDH1A3',\n",
       " 'MAGEA3',\n",
       " 'MYC',\n",
       " 'IGFBP4',\n",
       " 'CMAHP',\n",
       " 'EGR2',\n",
       " 'CD163',\n",
       " 'HSD17B11',\n",
       " 'SMC1A',\n",
       " 'RGS2']"
      ]
     },
     "execution_count": 70,
     "metadata": {},
     "output_type": "execute_result"
    }
   ],
   "source": [
    "import json\n",
    "import pandas as pd\n",
    "pd.set_option('display.max_rows', 1000)\n",
    "\n",
    "#filename_s = 'file\\extract\\LJP009_PC3_24H_BRD-U07805514_1.11.json'\n",
    "filename_s = 'file\\extract\\CPC013_HCC515_6H_BRD-K05104363_10.0.json'\n",
    "#filename_s = 'file\\extract\\LJP009_PC3_24H_BRD-K83972459_10.json'\n",
    "#This will outputs a iterator that converts each file line into a dict.\n",
    "with open(filename_s, \"rb\") as data_in_s:\n",
    "    data_s = json.load(data_in_s)\n",
    "\n",
    "df_s = pd.DataFrame(list(data_s.items()), columns = ['variable', 'value']) \n",
    "upgene= df_s['value'][df_s['variable']=='upGenes']\n",
    "dngene= df_s['value'][df_s['variable']=='dnGenes']\n",
    "my_list_compare = ['genes']\n",
    "\n",
    "\n",
    "for item_s in upgene:\n",
    "    my_set_s = set(item_s)\n",
    "    my_new_list_up = list(my_set_s)\n",
    "    for i in my_new_list_up:\n",
    "        my_list_compare.append(i)\n",
    "\n",
    "for item in dngene:\n",
    "    my_set = set(item)\n",
    "    my_new_list_dn = list(my_set)\n",
    "    for i in my_new_list_dn:\n",
    "        my_list_compare.append(i)\n",
    "    "
   ]
  },
  {
   "cell_type": "code",
   "execution_count": 81,
   "metadata": {
    "scrolled": true
   },
   "outputs": [
    {
     "name": "stderr",
     "output_type": "stream",
     "text": [
      "C:\\Users\\Arada\\Miniconda\\lib\\site-packages\\ipykernel_launcher.py:17: DeprecationWarning: generator 'KeyValueBSONInput.reads' raised StopIteration\n"
     ]
    }
   ],
   "source": [
    "from bsonstream import KeyValueBSONInput\n",
    "import csv\n",
    "import bson \n",
    "import json\n",
    "from bson import ObjectId\n",
    "import numpy as np\n",
    "from string import punctuation\n",
    "\n",
    "def strip_punctuation(s):\n",
    "    return ''.join(c for c in s if c not in punctuation)\n",
    "\n",
    "with open('file\\cpcd-gse70138.bson', 'rb') as f:\n",
    "    with open('x1.csv', 'w') as outfile:\n",
    "        write = csv.writer(outfile)\n",
    "        write.writerow(my_list_compare)\n",
    "        stream = KeyValueBSONInput(fh=f)\n",
    "        for dict_data in stream:\n",
    "            del dict_data['_id']\n",
    "            name = str(dict_data['batch'])+'_' +str(dict_data['pert_id'])+'_' +str(dict_data['pert_dose'])\n",
    "            if dict_data.get('upGenes') != None:\n",
    "                output = np.zeros(len(my_list_compare), dtype=object);\n",
    "                output[0] = name\n",
    "                index = 1\n",
    "                for i in my_new_list_up:\n",
    "                    for j in dict_data.get('upGenes'):\n",
    "                        if i == j:\n",
    "                            output[index] = '1'\n",
    "                    index = index +1\n",
    "                for x in my_new_list_dn:\n",
    "                    for y in dict_data.get('dnGenes'):\n",
    "                        if x == y:\n",
    "                            output[index] = '-1'\n",
    "                    index = index +1\n",
    "                write.writerow(output)\n",
    "\n",
    "\n",
    "           "
   ]
  }
 ],
 "metadata": {
  "kernelspec": {
   "display_name": "Python 3",
   "language": "python",
   "name": "python3"
  },
  "language_info": {
   "codemirror_mode": {
    "name": "ipython",
    "version": 3
   },
   "file_extension": ".py",
   "mimetype": "text/x-python",
   "name": "python",
   "nbconvert_exporter": "python",
   "pygments_lexer": "ipython3",
   "version": "3.6.7"
  }
 },
 "nbformat": 4,
 "nbformat_minor": 2
}
